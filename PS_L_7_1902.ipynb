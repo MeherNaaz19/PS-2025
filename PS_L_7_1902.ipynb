{
  "nbformat": 4,
  "nbformat_minor": 0,
  "metadata": {
    "colab": {
      "provenance": [],
      "authorship_tag": "ABX9TyOqzgqc5Al7/9+jZN9mNdwj",
      "include_colab_link": true
    },
    "kernelspec": {
      "name": "python3",
      "display_name": "Python 3"
    },
    "language_info": {
      "name": "python"
    }
  },
  "cells": [
    {
      "cell_type": "markdown",
      "metadata": {
        "id": "view-in-github",
        "colab_type": "text"
      },
      "source": [
        "<a href=\"https://colab.research.google.com/github/MeherNaaz19/PS-2025/blob/main/PS_L_7_1902.ipynb\" target=\"_parent\"><img src=\"https://colab.research.google.com/assets/colab-badge.svg\" alt=\"Open In Colab\"/></a>"
      ]
    },
    {
      "cell_type": "code",
      "execution_count": 1,
      "metadata": {
        "id": "0DuQKQ4PQpcl"
      },
      "outputs": [],
      "source": [
        "import numpy as np\n",
        "import scipy.stats as stats"
      ]
    },
    {
      "cell_type": "code",
      "source": [
        "#Given sample data (product weights in grams)\n",
        "data=[8800, 10000, 7000, 9900, 9950, 8200, 10100, 9000, 9700, 10800, 10000, 10250, 10300, 9900,\n",
        "4000, 6000, 6500]"
      ],
      "metadata": {
        "id": "yTlA_cLoQtf0"
      },
      "execution_count": 13,
      "outputs": []
    },
    {
      "cell_type": "code",
      "source": [
        "#Step 1: Compute sample statistics\n",
        "sample_mean = np.mean(data)\n",
        "# Sample mean\n",
        "sample_std = np.std(data, ddof=1) # Sample standard deviation (unbiased estimator)\n",
        "n = len(data) # Sample size\n",
        "sample_variance = np.var(data, ddof=1)\n",
        "# Sample variance\n",
        "#Step 2: Compute the 95% Confidence Interval\n",
        "confidence_level = 0.95\n",
        "alpha=1-confidence_level # Significance level\n",
        "t_critical=stats.t.ppf(1-alpha/2, df=n-1) #t-critical value\n",
        "#Margin of Error\n",
        "margin_of_error = t_critical * (sample_std / np.sqrt(n))\n",
        "confidence_interval = (sample_mean-margin_of_error, sample_mean + margin_of_error)"
      ],
      "metadata": {
        "id": "5mKhlm6eQwEz"
      },
      "execution_count": 14,
      "outputs": []
    },
    {
      "cell_type": "code",
      "source": [
        "#Step 3: Hypothesis Test Decision\n",
        "hypothesized_mean = 10000\n",
        "if hypothesized_mean >= confidence_interval[0] and hypothesized_mean <= confidence_interval[1]:\n",
        "  decision=\"Fail to reject Ho: No significant difference from 10000.\"\n",
        "else:\n",
        "  decision=\"Reject Ho: Significant difference from 10000.\"\n",
        "# Print results\n",
        "print(f\"Sample Mean: {sample_mean:.2f}\")\n",
        "print(f\"Sample Variance: {sample_variance:.2f}\")\n",
        "print(f\"Sample Standard Deviation: {sample_std:.2f}\")\n",
        "print(f\"95% Confidence Interval: {confidence_interval}\")\n",
        "print(f\"Hypothesis Test Decision: {decision}\")"
      ],
      "metadata": {
        "colab": {
          "base_uri": "https://localhost:8080/"
        },
        "id": "cYEV1xA6Q4ma",
        "outputId": "b632737a-3b3e-46dc-c38e-2e09a0895584"
      },
      "execution_count": 19,
      "outputs": [
        {
          "output_type": "stream",
          "name": "stdout",
          "text": [
            "Sample Mean: 8847.06\n",
            "Sample Variance: 3577959.56\n",
            "Sample Standard Deviation: 1891.55\n",
            "95% Confidence Interval: (np.float64(7874.513805351635), np.float64(9819.60384170719))\n",
            "Hypothesis Test Decision: Reject Ho: Significant difference from 10000.\n"
          ]
        }
      ]
    }
  ]
}