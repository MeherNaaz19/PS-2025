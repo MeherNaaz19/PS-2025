{
  "nbformat": 4,
  "nbformat_minor": 0,
  "metadata": {
    "colab": {
      "provenance": [],
      "authorship_tag": "ABX9TyPpWz9CI9szIKb8D90q+DHn",
      "include_colab_link": true
    },
    "kernelspec": {
      "name": "python3",
      "display_name": "Python 3"
    },
    "language_info": {
      "name": "python"
    }
  },
  "cells": [
    {
      "cell_type": "markdown",
      "metadata": {
        "id": "view-in-github",
        "colab_type": "text"
      },
      "source": [
        "<a href=\"https://colab.research.google.com/github/MeherNaaz19/PS-2025/blob/main/PS_Lab05.ipynb\" target=\"_parent\"><img src=\"https://colab.research.google.com/assets/colab-badge.svg\" alt=\"Open In Colab\"/></a>"
      ]
    },
    {
      "cell_type": "markdown",
      "source": [
        "# **PROBABILITY DISTRIBUTION**"
      ],
      "metadata": {
        "id": "Z6RsKDHbP2ko"
      }
    },
    {
      "cell_type": "markdown",
      "source": [
        "Importing Libraries"
      ],
      "metadata": {
        "id": "VjKPXTudOjCf"
      }
    },
    {
      "cell_type": "code",
      "execution_count": null,
      "metadata": {
        "id": "DbuQhtO6ONOe"
      },
      "outputs": [],
      "source": [
        "import numpy as np\n",
        "import matplotlib.pyplot as plt\n",
        "import seaborn as sns"
      ]
    },
    {
      "cell_type": "markdown",
      "source": [
        "Generate dataset"
      ],
      "metadata": {
        "id": "DwuK1kZSOoOF"
      }
    },
    {
      "cell_type": "code",
      "source": [
        "N = 100  # Number of days\n",
        "data = np.random.randint(0, 11, N)"
      ],
      "metadata": {
        "id": "k7euV8laOqMs"
      },
      "execution_count": null,
      "outputs": []
    },
    {
      "cell_type": "markdown",
      "source": [
        "Compute PMF"
      ],
      "metadata": {
        "id": "pxHtT_BbOvel"
      }
    },
    {
      "cell_type": "code",
      "source": [
        "values, counts = np.unique(data, return_counts=True)\n",
        "pmf = counts / N"
      ],
      "metadata": {
        "id": "qMki_EnXOtJv"
      },
      "execution_count": null,
      "outputs": []
    },
    {
      "cell_type": "markdown",
      "source": [
        "Compute CDF"
      ],
      "metadata": {
        "id": "J6xpO28lO0S8"
      }
    },
    {
      "cell_type": "code",
      "source": [
        "cdf = np.cumsum(pmf)"
      ],
      "metadata": {
        "id": "eqthMDzHO3jT"
      },
      "execution_count": null,
      "outputs": []
    },
    {
      "cell_type": "markdown",
      "source": [
        "Plot PMF"
      ],
      "metadata": {
        "id": "fn85sgrwO7Sd"
      }
    },
    {
      "cell_type": "code",
      "source": [
        "plt.figure(figsize=(14, 6))\n",
        "sns.barplot(x=values, y=pmf, color=\"blue\",edgecolor=\"black\")\n",
        "plt.xlabel('Number of Customers')\n",
        "plt.ylabel('Probability')\n",
        "plt.title('Probability Mass Function (PMF)')\n",
        "plt.xticks(values)\n",
        "plt.show()"
      ],
      "metadata": {
        "id": "PeNCD-FiO8sI"
      },
      "execution_count": null,
      "outputs": []
    },
    {
      "cell_type": "markdown",
      "source": [
        "Plot CDF"
      ],
      "metadata": {
        "id": "iKZ362ToPG-3"
      }
    },
    {
      "cell_type": "code",
      "source": [
        "plt.figure(figsize=(10,5))\n",
        "sns.lineplot(x=values, y=cdf,marker='o',color=\"red\",linestyle=\"-\")\n",
        "plt.xlabel('Number of Customers')\n",
        "plt.ylabel('Cumulative Probability')\n",
        "plt.title('Cumulative Distribution Function (CDF)')\n",
        "plt.xticks(values)\n",
        "plt.ylim(0,1.1)\n",
        "plt.show()"
      ],
      "metadata": {
        "id": "Qj5qZVB4PH-b"
      },
      "execution_count": null,
      "outputs": []
    },
    {
      "cell_type": "markdown",
      "source": [
        "# **BINOMIAL DISTRIBUTION**"
      ],
      "metadata": {
        "id": "YDUTnFOnPOMT"
      }
    },
    {
      "cell_type": "code",
      "source": [
        "import scipy.stats as stats\n",
        "p=0.70\n",
        "N=100\n",
        "#Probability of exactly 60 students passing:\n",
        "prob_60=stats.binom.pmf(60,N,p)\n",
        "print(f\"Probability of exactly 60 students passing: {prob_60:.4f}\")"
      ],
      "metadata": {
        "id": "85xEPoAQPaM8"
      },
      "execution_count": null,
      "outputs": []
    },
    {
      "cell_type": "code",
      "source": [
        "##Probability of atleast 75 students passing\n",
        "prob_75_or_more=1-stats.binom.cdf(74,N,p)\n",
        "print(f\"Probability of atleast 75 students passing: {prob_75_or_more:.4f}\")"
      ],
      "metadata": {
        "id": "2bsKDaNBPfGl"
      },
      "execution_count": null,
      "outputs": []
    },
    {
      "cell_type": "code",
      "source": [
        "#expected number of clicks\n",
        "expected_clicks=N*p\n",
        "print(f\"Expected number of clicks: {expected_clicks}\")"
      ],
      "metadata": {
        "id": "CDc0jIlvPlLW"
      },
      "execution_count": null,
      "outputs": []
    }
  ]
}